{
  "nbformat": 4,
  "nbformat_minor": 0,
  "metadata": {
    "colab": {
      "private_outputs": true,
      "provenance": [],
      "authorship_tag": "ABX9TyOIRHUpFdhSlAjmlH+yR7Ct",
      "include_colab_link": true
    },
    "kernelspec": {
      "name": "python3",
      "display_name": "Python 3"
    },
    "language_info": {
      "name": "python"
    }
  },
  "cells": [
    {
      "cell_type": "markdown",
      "metadata": {
        "id": "view-in-github",
        "colab_type": "text"
      },
      "source": [
        "<a href=\"https://colab.research.google.com/github/786aafreen/PythonJenkins/blob/main/Pathan_chatbot.ipynb\" target=\"_parent\"><img src=\"https://colab.research.google.com/assets/colab-badge.svg\" alt=\"Open In Colab\"/></a>"
      ]
    },
    {
      "cell_type": "code",
      "execution_count": null,
      "metadata": {
        "id": "P5KvDqAY8yo2"
      },
      "outputs": [],
      "source": [
        "pip install newspaper3K"
      ]
    },
    {
      "cell_type": "code",
      "source": [
        "from newspaper import Article \n",
        "import random\n",
        "import string \n",
        "from sklearn.feature_extraction.text import TfidfVectorizer \n",
        "from sklearn.metrics.pairwise import cosine_similarity\n",
        "import nltk\n",
        "import numpy as np\n",
        "import warnings "
      ],
      "metadata": {
        "id": "a_z_uoCp84-p"
      },
      "execution_count": null,
      "outputs": []
    },
    {
      "cell_type": "code",
      "source": [
        "# ignore warnings \n",
        "warnings.filterwarnings('ignore')"
      ],
      "metadata": {
        "id": "8qod9GEB85Cc"
      },
      "execution_count": null,
      "outputs": []
    },
    {
      "cell_type": "code",
      "source": [
        "nltk.download('punkt',quiet=True)\n",
        "nltk.download('wordnet',quiet=True)"
      ],
      "metadata": {
        "id": "eNp5V4nn9hzg"
      },
      "execution_count": null,
      "outputs": []
    },
    {
      "cell_type": "code",
      "source": [
        "#get the Article URL \n",
        "article=Article('https://en.wikipedia.org/wiki/Pathaan_(film)')\n",
        "article.download()\n",
        "article.parse()\n",
        "article.nlp()\n",
        "corpus=article.text\n",
        "print(corpus)\n"
      ],
      "metadata": {
        "id": "1ECwWNrq85FO"
      },
      "execution_count": null,
      "outputs": []
    },
    {
      "cell_type": "code",
      "source": [
        "#Tokenization \n",
        "text=corpus\n",
        "sent_tokens=nltk.sent_tokenize(text) #convert the text into a list of sentences \n",
        "\n",
        "print(sent_tokens)"
      ],
      "metadata": {
        "id": "IIJit2O687p-"
      },
      "execution_count": null,
      "outputs": []
    },
    {
      "cell_type": "code",
      "source": [
        "#create a dictionary to remove punctuation \n",
        "remove_punct_dict=dict((ord(punct),None) for punct in string.punctuation)\n",
        "print(string.punctuation)\n",
        "print(remove_punct_dict)"
      ],
      "metadata": {
        "id": "5a4OlCpJ8_8W"
      },
      "execution_count": null,
      "outputs": []
    },
    {
      "cell_type": "code",
      "source": [
        "#Create a function to return  list of lemmatized lower case words after removing punctuation \n",
        "def LemNormalize(text):\n",
        "  return nltk.word_tokenize(text.lower().translate(remove_punct_dict))\n",
        "  #Print the tokenization text \n",
        "print (LemNormalize(text))\n",
        "print('Aafreen Khan')\n",
        "print('If Anybody wanna wath the real Application of AI must watch Pathaan n Shahrukh Khan Wooooo')\n",
        "print('786')\n",
        "print (text)"
      ],
      "metadata": {
        "id": "Y0gMzfzA9Ctm"
      },
      "execution_count": null,
      "outputs": []
    },
    {
      "cell_type": "code",
      "source": [
        "import random \n",
        "#Keywords Matching \n",
        "#Greetings Input \n",
        "GREETINGS_Inputs=[\"Hello\",\"Hi\",\"hi\",\"hola\",\"greetings\",\"wassup\",\"hey\",'Salaam','Shukra Allahamdulillah']\n",
        "#Greetings responses back to user \n",
        "GREETING_RESPONSE=[\"howdy\",\"hi\",\"hey\",\"whats good\", \"hello\", \"hey there\", 'WalekumAssalam', 'Ameen']\n",
        "# Function to return random greeting response to a user response \n",
        "def greeting(sentence):\n",
        "  for word in sentence.split():\n",
        "    #print('from greeting function '+ word)\n",
        "    if word.lower() in GREETINGS_Inputs:\n",
        "      return random.choice(GREETING_RESPONSE)"
      ],
      "metadata": {
        "id": "-BeJX5vz9Hey"
      },
      "execution_count": null,
      "outputs": []
    },
    {
      "cell_type": "code",
      "source": [
        "#generate the response \n",
        "def response(user_response):\n",
        "\n",
        "  #user_response='what is chronic kidney disease'\n",
        "  user_response=user_response.lower()\n",
        "  ### Print the user response \n",
        "  #print(user_response)\n",
        "\n",
        "  #set bot response to an empty string \n",
        "  robo_response=''\n",
        "  #append the user response to a sentence list \n",
        "  sent_tokens.append(user_response)\n",
        "\n",
        "  ### print the sentence list after appending user resposne \n",
        "\n",
        "  #print (sent_tokens)\n",
        "  #create a tfidfvectorizer object \n",
        "  TfidfVec=TfidfVectorizer(tokenizer=LemNormalize,stop_words='english')\n",
        "  #convert text to a metrix of Tf-idf features \n",
        "  tfidf=TfidfVec.fit_transform(sent_tokens)\n",
        "  ### print the tfidf features \n",
        "  #print (tfidf)\n",
        "\n",
        "  #get the measure of similarity (similarity scores)\n",
        "  vals=cosine_similarity(tfidf[-1],tfidf)\n",
        "\n",
        "  ### Print Vals \n",
        "  #print(vals)\n",
        "\n",
        "  ### get the index of most similar text/sentence to the user response \n",
        "  idx=vals.argsort()[0][-2]\n",
        "\n",
        "  #reduce the dimensionality of vals \n",
        "  flat= vals.flatten()\n",
        "\n",
        "  #sort the list in ascending order \n",
        "  flat.sort()\n",
        "\n",
        "  #get the most similar score to user response \n",
        "  score= flat[-2]\n",
        "\n",
        "  #if the variable score is 0 then there is no text similar to the users response \n",
        "  if (score==0):\n",
        "    robo_response = robo_response+\"I apologies I dont understand\"\n",
        "  else:\n",
        "    robo_response=robo_response+sent_tokens[idx]\n",
        "\n",
        "  #Print chatbot resposne \n",
        "  #print (robo_response)\n",
        "\n",
        "  #print (sent_tokens[idx])\n",
        "  sent_tokens.remove(user_response)\n",
        "  return robo_response"
      ],
      "metadata": {
        "id": "Pa-1cEAZ-RxI"
      },
      "execution_count": null,
      "outputs": []
    },
    {
      "cell_type": "markdown",
      "source": [
        "sent_tokens.remove(user_response)"
      ],
      "metadata": {
        "id": "Ej-Uolls-gPe"
      }
    },
    {
      "cell_type": "code",
      "source": [
        "flag= True \n",
        "print (\"Aafreen: Assalamualaikum I am DocBot  or Pathan DOCBOT , and I will answer your queries for Pathaan, if you want to exit type Bye\")\n",
        "while (flag==True):\n",
        "  user_response=input()\n",
        "  user_response=user_response.lower()\n",
        "  if(user_response!=\"bye\"):\n",
        "    if(user_response == 'thanks' or user_response == 'thank you'):\n",
        "      flag=False\n",
        "      print(\"DocBot : You are Welcome !\")\n",
        "    else:\n",
        "      #print('1')\n",
        "      #print('1.1'+ greeting(user_response))\n",
        "      if(greeting(user_response)!=None):\n",
        "       # print('1.2')\n",
        "        print(\"DocBot:\"+ greeting(user_response))\n",
        "      else:\n",
        "        print('DocBot:' + response(user_response))  \n",
        "       \n",
        "  else:\n",
        "      flag=False\n",
        "      print (\"DocBot: Chat with you later !\")"
      ],
      "metadata": {
        "id": "V6TvZFgJ-dOO"
      },
      "execution_count": null,
      "outputs": []
    }
  ]
}